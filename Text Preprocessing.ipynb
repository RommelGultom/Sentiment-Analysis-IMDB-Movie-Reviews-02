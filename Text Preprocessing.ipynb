{
 "cells": [
  {
   "cell_type": "markdown",
   "metadata": {
    "id": "WSh7PBbDwkTQ"
   },
   "source": [
    "### Preprocessing"
   ]
  },
  {
   "cell_type": "markdown",
   "metadata": {
    "id": "VHMJvJRFwkTQ"
   },
   "source": [
    "##### Melakuakan tokenisasi dan teks vektor"
   ]
  },
  {
   "cell_type": "code",
   "execution_count": null,
   "metadata": {
    "id": "gAbjjMV8wkTR"
   },
   "outputs": [],
   "source": [
    "tokenizer = Tokenizer(inputCol=\"review\", outputCol=\"tokens\")"
   ]
  },
  {
   "cell_type": "code",
   "execution_count": null,
   "metadata": {
    "id": "6BA3AmnEwkTR"
   },
   "outputs": [],
   "source": [
    "output_tokenizer = tokenizer.transform(data_parq)"
   ]
  },
  {
   "cell_type": "code",
   "execution_count": null,
   "metadata": {
    "colab": {
     "base_uri": "https://localhost:8080/"
    },
    "id": "d15LZVt9wkTR",
    "outputId": "22168aa7-b978-4e6c-a10d-afc3e9184662"
   },
   "outputs": [
    {
     "name": "stdout",
     "output_type": "stream",
     "text": [
      "+--------------------+---------+--------------------+\n",
      "|              review|sentiment|              tokens|\n",
      "+--------------------+---------+--------------------+\n",
      "|Jess Franco makes...| negative|[jess, franco, ma...|\n",
      "|Really enjoyed th...| positive|[really, enjoyed,...|\n",
      "|I read several mi...| positive|[i, read, several...|\n",
      "|Absolutely one of...| positive|[absolutely, one,...|\n",
      "|True stories make...| positive|[true, stories, m...|\n",
      "|I saw The Big Bad...| positive|[i, saw, the, big...|\n",
      "|Actually I'm stil...| negative|[actually, i'm, s...|\n",
      "|Let me say first ...| positive|[let, me, say, fi...|\n",
      "|I write this revi...| positive|[i, write, this, ...|\n",
      "|The odd mixture o...| negative|[the, odd, mixtur...|\n",
      "|Most movies I can...| negative|[most, movies, i,...|\n",
      "|I caught this on ...| negative|[i, caught, this,...|\n",
      "|I have seen this ...| positive|[i, have, seen, t...|\n",
      "|Mysterious murder...| positive|[mysterious, murd...|\n",
      "|\"It's like hard t...| negative|[\"it's, like, har...|\n",
      "|It's a simple fac...| positive|[it's, a, simple,...|\n",
      "|Indian Summer! It...| positive|[indian, summer!,...|\n",
      "|In my work with t...| positive|[in, my, work, wi...|\n",
      "|This sorry excuse...| negative|[this, sorry, exc...|\n",
      "|I caught a bit of...| positive|[i, caught, a, bi...|\n",
      "+--------------------+---------+--------------------+\n",
      "only showing top 20 rows\n",
      "\n"
     ]
    }
   ],
   "source": [
    "output_tokenizer.show()"
   ]
  },
  {
   "cell_type": "code",
   "execution_count": null,
   "metadata": {
    "colab": {
     "base_uri": "https://localhost:8080/"
    },
    "id": "9LLdqZ6iwkTR",
    "outputId": "3c041f8a-f27f-42b7-80cd-b7c338873cae"
   },
   "outputs": [
    {
     "name": "stdout",
     "output_type": "stream",
     "text": [
      "+------------+\n",
      "|       token|\n",
      "+------------+\n",
      "|        jess|\n",
      "|      franco|\n",
      "|       makes|\n",
      "|exploitation|\n",
      "|      films,|\n",
      "|         and|\n",
      "|          he|\n",
      "|         has|\n",
      "|        made|\n",
      "|        tons|\n",
      "+------------+\n",
      "only showing top 10 rows\n",
      "\n"
     ]
    }
   ],
   "source": [
    "output_tokenizer.select(fn.explode('tokens').alias('token')).show(10)"
   ]
  },
  {
   "cell_type": "markdown",
   "metadata": {
    "id": "gDcGfqb7wkTR"
   },
   "source": [
    "##### Menghilangkan Stop Words"
   ]
  },
  {
   "cell_type": "code",
   "execution_count": null,
   "metadata": {
    "id": "X6w2MN78wkTS"
   },
   "outputs": [],
   "source": [
    "WordsRemover = StopWordsRemover(inputCol= 'tokens', outputCol= 'filtered_words')"
   ]
  },
  {
   "cell_type": "code",
   "execution_count": null,
   "metadata": {
    "id": "cq469vIowkTS"
   },
   "outputs": [],
   "source": [
    "output_WordsRemover = WordsRemover.transform(output_tokenizer)"
   ]
  },
  {
   "cell_type": "code",
   "execution_count": null,
   "metadata": {
    "colab": {
     "base_uri": "https://localhost:8080/"
    },
    "id": "3IPKdg8VwkTS",
    "outputId": "efc71782-e04b-4663-99b1-449dfdbe60f7"
   },
   "outputs": [
    {
     "name": "stdout",
     "output_type": "stream",
     "text": [
      "+--------------------+---------+--------------------+--------------------+\n",
      "|              review|sentiment|              tokens|      filtered_words|\n",
      "+--------------------+---------+--------------------+--------------------+\n",
      "|Jess Franco makes...| negative|[jess, franco, ma...|[jess, franco, ma...|\n",
      "|Really enjoyed th...| positive|[really, enjoyed,...|[really, enjoyed,...|\n",
      "|I read several mi...| positive|[i, read, several...|[read, several, m...|\n",
      "|Absolutely one of...| positive|[absolutely, one,...|[absolutely, one,...|\n",
      "|True stories make...| positive|[true, stories, m...|[true, stories, m...|\n",
      "|I saw The Big Bad...| positive|[i, saw, the, big...|[saw, big, bad, s...|\n",
      "|Actually I'm stil...| negative|[actually, i'm, s...|[actually, still,...|\n",
      "|Let me say first ...| positive|[let, me, say, fi...|[let, say, first,...|\n",
      "|I write this revi...| positive|[i, write, this, ...|[write, review, h...|\n",
      "|The odd mixture o...| negative|[the, odd, mixtur...|[odd, mixture, co...|\n",
      "|Most movies I can...| negative|[most, movies, i,...|[movies, sit, eas...|\n",
      "|I caught this on ...| negative|[i, caught, this,...|[caught, showtime...|\n",
      "|I have seen this ...| positive|[i, have, seen, t...|[seen, movie, rel...|\n",
      "|Mysterious murder...| positive|[mysterious, murd...|[mysterious, murd...|\n",
      "|\"It's like hard t...| negative|[\"it's, like, har...|[\"it's, like, har...|\n",
      "|It's a simple fac...| positive|[it's, a, simple,...|[simple, fact, ma...|\n",
      "|Indian Summer! It...| positive|[indian, summer!,...|[indian, summer!,...|\n",
      "|In my work with t...| positive|[in, my, work, wi...|[work, nationwide...|\n",
      "|This sorry excuse...| negative|[this, sorry, exc...|[sorry, excuse, f...|\n",
      "|I caught a bit of...| positive|[i, caught, a, bi...|[caught, bit, con...|\n",
      "+--------------------+---------+--------------------+--------------------+\n",
      "only showing top 20 rows\n",
      "\n"
     ]
    }
   ],
   "source": [
    "output_WordsRemover.show()"
   ]
  },
  {
   "cell_type": "markdown",
   "metadata": {
    "id": "fTP7_6KwwkTS"
   },
   "source": [
    "##### Melakukan Hashing TF"
   ]
  },
  {
   "cell_type": "code",
   "execution_count": null,
   "metadata": {
    "id": "eKtlsbhQwkTT"
   },
   "outputs": [],
   "source": [
    "word_hash = HashingTF(inputCol=\"filtered_words\", outputCol=\"features\")"
   ]
  },
  {
   "cell_type": "code",
   "execution_count": null,
   "metadata": {
    "id": "CRxGuyMMwkTT"
   },
   "outputs": [],
   "source": [
    "output_word_hash = word_hash.transform(output_WordsRemover)"
   ]
  },
  {
   "cell_type": "code",
   "execution_count": null,
   "metadata": {
    "colab": {
     "base_uri": "https://localhost:8080/"
    },
    "id": "lQw6ZFAJwkTT",
    "outputId": "ae5c7ad2-42eb-4eea-809a-cf064f3a85a1"
   },
   "outputs": [
    {
     "name": "stdout",
     "output_type": "stream",
     "text": [
      "+--------------------+---------+--------------------+--------------------+--------------------+\n",
      "|              review|sentiment|              tokens|      filtered_words|            features|\n",
      "+--------------------+---------+--------------------+--------------------+--------------------+\n",
      "|Jess Franco makes...| negative|[jess, franco, ma...|[jess, franco, ma...|(262144,[528,1797...|\n",
      "|Really enjoyed th...| positive|[really, enjoyed,...|[really, enjoyed,...|(262144,[4167,786...|\n",
      "|I read several mi...| positive|[i, read, several...|[read, several, m...|(262144,[1125,159...|\n",
      "|Absolutely one of...| positive|[absolutely, one,...|[absolutely, one,...|(262144,[8449,128...|\n",
      "|True stories make...| positive|[true, stories, m...|[true, stories, m...|(262144,[233,440,...|\n",
      "|I saw The Big Bad...| positive|[i, saw, the, big...|[saw, big, bad, s...|(262144,[2395,317...|\n",
      "|Actually I'm stil...| negative|[actually, i'm, s...|[actually, still,...|(262144,[1074,655...|\n",
      "|Let me say first ...| positive|[let, me, say, fi...|[let, say, first,...|(262144,[2977,607...|\n",
      "|I write this revi...| positive|[i, write, this, ...|[write, review, h...|(262144,[13981,17...|\n",
      "|The odd mixture o...| negative|[the, odd, mixtur...|[odd, mixture, co...|(262144,[5537,830...|\n",
      "|Most movies I can...| negative|[most, movies, i,...|[movies, sit, eas...|(262144,[5381,694...|\n",
      "|I caught this on ...| negative|[i, caught, this,...|[caught, showtime...|(262144,[8804,139...|\n",
      "|I have seen this ...| positive|[i, have, seen, t...|[seen, movie, rel...|(262144,[5451,129...|\n",
      "|Mysterious murder...| positive|[mysterious, murd...|[mysterious, murd...|(262144,[1817,353...|\n",
      "|\"It's like hard t...| negative|[\"it's, like, har...|[\"it's, like, har...|(262144,[1968,221...|\n",
      "|It's a simple fac...| positive|[it's, a, simple,...|[simple, fact, ma...|(262144,[627,1038...|\n",
      "|Indian Summer! It...| positive|[indian, summer!,...|[indian, summer!,...|(262144,[5451,655...|\n",
      "|In my work with t...| positive|[in, my, work, wi...|[work, nationwide...|(262144,[929,5078...|\n",
      "|This sorry excuse...| negative|[this, sorry, exc...|[sorry, excuse, f...|(262144,[205,3928...|\n",
      "|I caught a bit of...| positive|[i, caught, a, bi...|[caught, bit, con...|(262144,[991,8245...|\n",
      "+--------------------+---------+--------------------+--------------------+--------------------+\n",
      "only showing top 20 rows\n",
      "\n"
     ]
    }
   ],
   "source": [
    "output_word_hash.show()"
   ]
  },
  {
   "cell_type": "code",
   "execution_count": null,
   "metadata": {
    "id": "Xz3yhttfwkTW"
   },
   "outputs": [],
   "source": []
  }
 ],
 "metadata": {
  "colab": {
   "name": "Proyek PDB-Hore Fix.ipynb",
   "provenance": [],
   "toc_visible": true
  },
  "kernelspec": {
   "display_name": "Python 3",
   "language": "python",
   "name": "python3"
  },
  "language_info": {
   "codemirror_mode": {
    "name": "ipython",
    "version": 3
   },
   "file_extension": ".py",
   "mimetype": "text/x-python",
   "name": "python",
   "nbconvert_exporter": "python",
   "pygments_lexer": "ipython3",
   "version": "3.6.5"
  }
 },
 "nbformat": 4,
 "nbformat_minor": 1
}
